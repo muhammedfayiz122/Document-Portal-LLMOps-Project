{
 "cells": [
  {
   "cell_type": "code",
   "execution_count": 4,
   "id": "18978be8",
   "metadata": {},
   "outputs": [
    {
     "name": "stdout",
     "output_type": "stream",
     "text": [
      "c:\\Users\\muham\\Desktop\\document_portal\\document_portal\\notebook\\logs\n",
      "c:\\Users\\muham\\Desktop\\document_portal\\document_portal\\notebook\\logs\n"
     ]
    }
   ],
   "source": [
    "import os\n",
    "print(os.path.abspath(\"logs\"))\n",
    "print(os.path.join(os.getcwd(),\"logs\"))"
   ]
  },
  {
   "cell_type": "code",
   "execution_count": 25,
   "id": "579bf937",
   "metadata": {},
   "outputs": [],
   "source": [
    "log_max_bytes=5*1024*1024,"
   ]
  },
  {
   "cell_type": "code",
   "execution_count": 24,
   "id": "0db9983f",
   "metadata": {},
   "outputs": [
    {
     "data": {
      "text/plain": [
       "int"
      ]
     },
     "execution_count": 24,
     "metadata": {},
     "output_type": "execute_result"
    }
   ],
   "source": [
    "type(log_max_bytes)"
   ]
  },
  {
   "cell_type": "code",
   "execution_count": 29,
   "id": "dff80a6d",
   "metadata": {},
   "outputs": [
    {
     "name": "stdout",
     "output_type": "stream",
     "text": [
      "<class 'int'>\n"
     ]
    },
    {
     "data": {
      "text/plain": [
       "<__main__.CustomLogger at 0x1da91a32230>"
      ]
     },
     "execution_count": 29,
     "metadata": {},
     "output_type": "execute_result"
    }
   ],
   "source": [
    "import logging\n",
    "from datetime import datetime\n",
    "class CustomLogger():\n",
    "    def __init__(\n",
    "        self, \n",
    "        log_dir=\"logs\",\n",
    "        log_level=logging.DEBUG,\n",
    "        log_max_bytes=5 * 1024 * 1024, # 5MB\n",
    "        log_backup_counts=50,\n",
    "    ) -> None:\n",
    "        self.log_dir = os.path.abspath(log_dir)\n",
    "        os.makedirs(self.log_dir, exist_ok=True)\n",
    "        \n",
    "        self.log_file = os.path.join(\n",
    "            self.log_dir, f\"{datetime.now().strftime('%m_%d_%Y_%H_%M_%S')}.log\"\n",
    "        )\n",
    "        \n",
    "        self.log_level = log_level\n",
    "        self.log_max_bytes = log_max_bytes\n",
    "        self.log_backup_counts = log_backup_counts\n",
    "\n",
    "        self.logger = None\n",
    "        \n",
    "        print(type(self.log_max_bytes))\n",
    "        \n",
    "CustomLogger()\n"
   ]
  },
  {
   "cell_type": "code",
   "execution_count": 2,
   "id": "98d06cde",
   "metadata": {},
   "outputs": [
    {
     "data": {
      "text/plain": [
       "'hello'"
      ]
     },
     "execution_count": 2,
     "metadata": {},
     "output_type": "execute_result"
    }
   ],
   "source": [
    "import os\n",
    "os.path.basename(\"hello\")"
   ]
  },
  {
   "cell_type": "code",
   "execution_count": 4,
   "id": "4e09f882",
   "metadata": {},
   "outputs": [
    {
     "data": {
      "text/plain": [
       "'__main__'"
      ]
     },
     "execution_count": 4,
     "metadata": {},
     "output_type": "execute_result"
    }
   ],
   "source": [
    "__name__"
   ]
  },
  {
   "cell_type": "code",
   "execution_count": 5,
   "id": "76fb9ea1",
   "metadata": {},
   "outputs": [
    {
     "ename": "NameError",
     "evalue": "name '__file__' is not defined",
     "output_type": "error",
     "traceback": [
      "\u001b[1;31m---------------------------------------------------------------------------\u001b[0m",
      "\u001b[1;31mNameError\u001b[0m                                 Traceback (most recent call last)",
      "Cell \u001b[1;32mIn[5], line 1\u001b[0m\n\u001b[1;32m----> 1\u001b[0m \u001b[38;5;18;43m__file__\u001b[39;49m\n",
      "\u001b[1;31mNameError\u001b[0m: name '__file__' is not defined"
     ]
    }
   ],
   "source": [
    "__file__"
   ]
  }
 ],
 "metadata": {
  "kernelspec": {
   "display_name": "Python 3",
   "language": "python",
   "name": "python3"
  },
  "language_info": {
   "codemirror_mode": {
    "name": "ipython",
    "version": 3
   },
   "file_extension": ".py",
   "mimetype": "text/x-python",
   "name": "python",
   "nbconvert_exporter": "python",
   "pygments_lexer": "ipython3",
   "version": "3.10.18"
  }
 },
 "nbformat": 4,
 "nbformat_minor": 5
}
